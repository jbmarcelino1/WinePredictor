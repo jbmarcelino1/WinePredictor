{
 "cells": [
  {
   "cell_type": "code",
   "execution_count": 3,
   "metadata": {},
   "outputs": [],
   "source": [
    "import requests\n",
    "import pandas as pd \n",
    "df = pd.read_csv(r'/Users/edwardburroughes/Desktop/test.csv').T\n",
    "params = {'country': 'US',\n",
    "  'description': 'Tart and snappy, the flavors of lime flesh and rind dominate. Some green pineapple pokes through, with crisp acidity underscoring the flavors. The wine was all stainless-steel fermented.',\n",
    "  'price': 14.0,\n",
    "  'province': 'Oregon',\n",
    "  'region': 'Willamette Valley',\n",
    "  'taster_name': 'Paul Gregutt',\n",
    "  'year'\n",
    "  'variety': 'Pinot Gris',\n",
    "  'brand': 'Rainstorm'} "
   ]
  },
  {
   "cell_type": "code",
   "execution_count": null,
   "metadata": {},
   "outputs": [],
   "source": [
    "BASE = \"http://127.0.0.1:8080/\n",
    "response = requests.post(BASE + '/winemodel',params=params)"
   ]
  }
 ],
 "metadata": {
  "kernelspec": {
   "display_name": "Python 3",
   "language": "python",
   "name": "python3"
  },
  "language_info": {
   "codemirror_mode": {
    "name": "ipython",
    "version": 3
   },
   "file_extension": ".py",
   "mimetype": "text/x-python",
   "name": "python",
   "nbconvert_exporter": "python",
   "pygments_lexer": "ipython3",
   "version": "3.7.7"
  }
 },
 "nbformat": 4,
 "nbformat_minor": 4
}
