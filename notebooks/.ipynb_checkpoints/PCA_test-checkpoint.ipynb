{
 "cells": [
  {
   "cell_type": "code",
   "execution_count": null,
   "metadata": {},
   "outputs": [],
   "source": [
    "import os \n",
    "import pandas as pd\n",
    "import numpy as np\n",
    "import matplotlib.pyplot as plt\n",
    "import seaborn as sns \n",
    "from sklearn.impute import SimpleImputer\n",
    "# from sklearn.linear_model import LinearRegression\n",
    "# from sklearn.ensemble import RandomForestRegressor\n",
    "from sklearn.multiclass import OneVsRestClassifier\n",
    "from sklearn.linear_model import LogisticRegression\n",
    "from sklearn.svm import SVC\n",
    "from sklearn.model_selection import cross_val_score,train_test_split\n",
    "from sklearn.preprocessing import RobustScaler  \n",
    "%matplotlib inline"
   ]
  },
  {
   "cell_type": "code",
   "execution_count": null,
   "metadata": {},
   "outputs": [],
   "source": [
    "def import_raw_data(operating_system ='mac'):\n",
    "    '''generate a dictionary of raw dataframes\n",
    "    \n",
    "    parameters\n",
    "    -----------\n",
    "    type of operating system used windows or mac\n",
    "    default mac\n",
    "    \n",
    "    '''\n",
    "    if operating_system == 'mac':\n",
    "        base_file_path = r\"/Users/{}/Desktop/data\".format(os.getlogin())\n",
    "    if operating_system == 'windows':\n",
    "        base_file_path = r\"C:\\Users\\{}\\Desktop\\data\".format(os.getlogin())\n",
    "    df_dict = dict()\n",
    "    for file in os.listdir(base_file_path):\n",
    "        if file.endswith('.csv'):\n",
    "            df_dict[file.split('.')[0]] = pd.read_csv(os.path.join(base_file_path,file))\n",
    "    return df_dict"
   ]
  },
  {
   "cell_type": "code",
   "execution_count": null,
   "metadata": {},
   "outputs": [],
   "source": [
    "df_dict = import_raw_data()\n",
    "df_dict.keys()\n",
    "df = df_dict.get('winemag-data-130k-v2').copy()\n",
    "temp_df = df_dict.get('temperature').copy()\n",
    "country_iso = df_dict.get('country_iso_data').copy()\n",
    "weather_month_v2 = df_dict.get('weather_country_month_v2').copy()"
   ]
  },
  {
   "cell_type": "code",
   "execution_count": null,
   "metadata": {},
   "outputs": [],
   "source": [
    "sns.countplot(x='test', color='darkgreen',\n",
    "                  data=df)"
   ]
  },
  {
   "cell_type": "code",
   "execution_count": null,
   "metadata": {},
   "outputs": [],
   "source": [
    "COLUMN_DROP = ['Unnamed: 0','designation','region_2','taster_twitter_handle','points']\n",
    "df.drop(columns=COLUMN_DROP,inplace=True)\n",
    "df.dropna(subset=['variety','province','country','taster_name'],inplace=True)\n",
    "imp_median = SimpleImputer(strategy='median')\n",
    "df['price'] = imp_median.fit_transform(df[['price']])\n",
    "df.isnull().sum()"
   ]
  },
  {
   "cell_type": "code",
   "execution_count": null,
   "metadata": {},
   "outputs": [],
   "source": [
    "df['region_1'] = df['region_1'].fillna(\"NONE\")\n",
    "df.drop_duplicates(subset=['description','title'],inplace=True)"
   ]
  },
  {
   "cell_type": "code",
   "execution_count": null,
   "metadata": {},
   "outputs": [],
   "source": [
    "count_year = df[df['title'].str.contains('\\d',regex=True)].shape[0]\n",
    "df['number_extract'] = df['title'].str.extract('(\\d+)')\n",
    "df['number_extract'] = np.where(len(df['number_extract'])<4 & len(df['number_extract'])<=5,np.nan,df['number_extract'])\n",
    "df['number_extract'] = pd.to_numeric(df['number_extract'])\n",
    "df['number_extract'] = np.where(\n",
    "                    (df['number_extract']>=2021) | (df['number_extract']<=(2021-70)),\n",
    "                    np.nan,\n",
    "                    df['number_extract'])\n",
    "imp_median = SimpleImputer(strategy='median')\n",
    "df['number_extract'] = imp_median.fit_transform(df[['number_extract']])\n",
    "df['number_extract'] = pd.to_datetime(df['number_extract'],format='%Y').dt.year \n",
    "df.rename(columns={'number_extract':'year'},inplace=True)\n",
    "df.isnull().sum()"
   ]
  },
  {
   "cell_type": "code",
   "execution_count": null,
   "metadata": {},
   "outputs": [],
   "source": [
    "for col in ['title','taster_name']:\n",
    "     df[f\"{col}_length\"] = df[col].apply(lambda x: len(x))\n",
    "df['price_bin'] = pd.cut(df['price'],bins=15,labels=False)\n",
    "df.drop(columns=['taster_name', 'title'],inplace=True)"
   ]
  },
  {
   "cell_type": "code",
   "execution_count": null,
   "metadata": {},
   "outputs": [],
   "source": [
    "weather_feature = df.set_index('country').join(country_iso.set_index('country'))\n",
    "weather_iso_df = weather_month_v2.set_index('country').join(country_iso.set_index('country'))\n",
    "weather_iso_df['year'] = pd.to_datetime(weather_iso_df['month']).dt.year\n",
    "weather_iso_summary_df = weather_iso_df.groupby(['country_iso', 'year'], as_index=False).mean()\n",
    "df = pd.merge(\n",
    "              weather_feature, \n",
    "              weather_iso_summary_df,  \n",
    "              how='left', \n",
    "              left_on=['country_iso','year'], \n",
    "              right_on=['country_iso','year']\n",
    "             )\n",
    "imp_median = SimpleImputer(strategy='median')\n",
    "df['avg_temp'] = imp_median.fit_transform(df[['avg_temp']])\n",
    "df.isnull().sum()"
   ]
  },
  {
   "cell_type": "code",
   "execution_count": null,
   "metadata": {},
   "outputs": [],
   "source": [
    "from nltk.tokenize import word_tokenize\n",
    "import nltk\n",
    "from nltk.corpus import stopwords\n",
    "from textblob import Blobber\n",
    "from textblob.sentiments import NaiveBayesAnalyzer\n",
    "import string \n",
    "punc = set(string.punctuation)\n",
    "\n",
    "#loading stop_words\n",
    "nltk.download('stopwords')\n",
    "\n",
    "# creating a set of stop words\n",
    "stop_words = set(stopwords.words('english'))\n",
    "\n",
    "# combining the 2 sets with an \"or\" operator (i.e. \"|\")\n",
    "all_stops = stop_words | punc\n",
    "\n",
    "# loop to pre-process data\n",
    "clean_desc =[]\n",
    "for item in df['description'].to_list():\n",
    "    tok_desc = word_tokenize(item)\n",
    "    lower_data = [i.lower() for i in tok_desc]\n",
    "    tok_desc_no_num = [i for i in lower_data if i.isalpha()]\n",
    "    filtered_desc = [i for i in tok_desc_no_num if i not in all_stops]\n",
    "    clean_desc.append(filtered_desc)"
   ]
  },
  {
   "cell_type": "code",
   "execution_count": null,
   "metadata": {},
   "outputs": [],
   "source": [
    "clean_desc_untok = [' '.join(i) for i in clean_desc]\n",
    "column_names = ['original_desc', 'untok_description']\n",
    "data_tuple= list(zip(df['description'], clean_desc_untok))\n",
    "desc_df = pd.DataFrame(data_tuple, columns=column_names)\n",
    "nltk.download('movie_reviews')\n",
    "tb = Blobber(analyzer=NaiveBayesAnalyzer())\n",
    "blob = [tb(text) for text in desc_df['untok_description']]\n",
    "sentiment_values = [text.sentiment for text in blob]\n",
    "stats = pd.DataFrame(zip(*sentiment_values)).T\n",
    "stats.columns = ['clf','pos','neg']"
   ]
  },
  {
   "cell_type": "code",
   "execution_count": null,
   "metadata": {},
   "outputs": [],
   "source": [
    "sns.countplot(stats['clf'])\n",
    "df = df.join(stats)"
   ]
  },
  {
   "cell_type": "code",
   "execution_count": null,
   "metadata": {},
   "outputs": [],
   "source": [
    "X = df.drop(columns=['test','description','clf'])\n",
    "y = df[['test']]"
   ]
  },
  {
   "cell_type": "code",
   "execution_count": null,
   "metadata": {},
   "outputs": [],
   "source": [
    "%timeit\n",
    "# import datetime\n",
    "# start = datetime.datetime.now()\n",
    "def create_dummies_ohe(X,cat_columns):\n",
    "    categorical_x = pd.get_dummies(X[cat_columns],prefix='cat')\n",
    "    numeric_cols = list(set(X.columns)-set(cat_columns))\n",
    "    return pd.concat([X[numeric_cols],categorical_x], axis=1)\n",
    "\n",
    "X = create_dummies_ohe(X,['province','variety','country_iso','price_bin','winery','region_1'])"
   ]
  },
  {
   "cell_type": "code",
   "execution_count": null,
   "metadata": {},
   "outputs": [],
   "source": [
    "X_train, X_test,y_train,y_test = train_test_split(X,y,test_size=0.3,random_state=1)"
   ]
  },
  {
   "cell_type": "code",
   "execution_count": null,
   "metadata": {},
   "outputs": [],
   "source": [
    "numeric_features = ['price','title_length','taster_name_length','avg_temp','year','pos','neg']\n",
    "RB = RobustScaler() \n",
    "X_train[numeric_features] = RB.fit_transform(X_train[numeric_features])\n",
    "X_test[numeric_features] = RB.fit_transform(X_test[numeric_features])\n",
    "import warnings \n",
    "warnings.simplefilter('ignore')"
   ]
  },
  {
   "cell_type": "code",
   "execution_count": null,
   "metadata": {},
   "outputs": [],
   "source": [
    "from sklearn.metrics import f1_score\n",
    "\n",
    "def f1(model,X_test,y_test):\n",
    "    y_pred = model.predict(X_test)\n",
    "    score = f1_score(y_test,y_pred,average='weighted')\n",
    "    return score"
   ]
  },
  {
   "cell_type": "code",
   "execution_count": null,
   "metadata": {},
   "outputs": [],
   "source": [
    "from sklearn.ensemble import RandomForestClassifier\n",
    "rf_classifier = RandomForestClassifier(n_estimators=500,n_jobs=-1)\n",
    "rf_classifier.fit(X_train, y_train)\n",
    "print(f1(rf_classifier,X_test,y_test))"
   ]
  }
 ],
 "metadata": {
  "kernelspec": {
   "display_name": "Python 3",
   "language": "python",
   "name": "python3"
  },
  "language_info": {
   "codemirror_mode": {
    "name": "ipython",
    "version": 3
   },
   "file_extension": ".py",
   "mimetype": "text/x-python",
   "name": "python",
   "nbconvert_exporter": "python",
   "pygments_lexer": "ipython3",
   "version": "3.7.7"
  }
 },
 "nbformat": 4,
 "nbformat_minor": 4
}
