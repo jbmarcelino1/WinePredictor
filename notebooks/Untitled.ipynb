{
 "cells": [
  {
   "cell_type": "code",
   "execution_count": 12,
   "metadata": {},
   "outputs": [],
   "source": [
    "import os \n",
    "import pandas as pd\n",
    "import numpy as np\n",
    "import matplotlib.pyplot as plt\n",
    "import seaborn as sns \n",
    "from sklearn.impute import SimpleImputer\n",
    "from sklearn.ensemble import RandomForestRegressor\n",
    "from sklearn.multiclass import OneVsRestClassifier\n",
    "from sklearn.linear_model import LogisticRegression\n",
    "from sklearn.svm import SVC\n",
    "from sklearn.model_selection import cross_val_score,train_test_split\n",
    "from sklearn.preprocessing import QuantileTransformer  \n",
    "from xgboost import XGBClassifier\n",
    "import sys\n",
    "sys.path.append('..')\n",
    "from WinePredictModel.data import GetData\n",
    "from WinePredictModel.encoder import (\n",
    "    YearVintageEncoder,WeatherEncoder,FeatureSelectionEncoder,PriceImputer,\n",
    "    DescriptionSentimentEncoder,\n",
    "    VocabRichnessEncoder,\n",
    "    TitleLengthEncoder,\n",
    "    PriceBinEncoder,\n",
    "    FeatureSelectionEncoder,\n",
    "    CreateDummies,\n",
    "YearReturnEnconder)\n",
    "%matplotlib inline"
   ]
  },
  {
   "cell_type": "code",
   "execution_count": 13,
   "metadata": {},
   "outputs": [],
   "source": [
    "d = GetData('gcp',nrows=25000)"
   ]
  },
  {
   "cell_type": "code",
   "execution_count": 14,
   "metadata": {},
   "outputs": [
    {
     "data": {
      "text/plain": [
       "(24704, 10)"
      ]
     },
     "execution_count": 14,
     "metadata": {},
     "output_type": "execute_result"
    }
   ],
   "source": [
    "df = d.clean_data()\n",
    "df.shape"
   ]
  },
  {
   "cell_type": "code",
   "execution_count": 15,
   "metadata": {},
   "outputs": [],
   "source": [
    "X = df.drop(columns='points')\n",
    "y = df['points']"
   ]
  },
  {
   "cell_type": "code",
   "execution_count": 16,
   "metadata": {},
   "outputs": [
    {
     "data": {
      "text/plain": [
       "Index(['country', 'description', 'price', 'province', 'region_1',\n",
       "       'taster_name', 'title', 'variety', 'winery'],\n",
       "      dtype='object')"
      ]
     },
     "execution_count": 16,
     "metadata": {},
     "output_type": "execute_result"
    }
   ],
   "source": [
    "X.columns"
   ]
  },
  {
   "cell_type": "code",
   "execution_count": 17,
   "metadata": {},
   "outputs": [],
   "source": [
    "cd = CreateDummies()\n",
    "x_test = cd.fit_transform(X)"
   ]
  },
  {
   "cell_type": "code",
   "execution_count": null,
   "metadata": {},
   "outputs": [],
   "source": []
  },
  {
   "cell_type": "code",
   "execution_count": 7,
   "metadata": {},
   "outputs": [],
   "source": [
    "from sklearn.preprocessing import OneHotEncoder\n",
    "from sklearn.compose import ColumnTransformer\n",
    "from sklearn.pipeline import Pipeline, make_pipeline\n",
    "CAT_FEATURES = [\"province\", \"variety\", \"country\", \"winery\", \"region_1\"]\n",
    "pipe_sentiment = make_pipeline(\n",
    "            DescriptionSentimentEncoder(description=\"description\"),\n",
    "            QuantileTransformer(),\n",
    ")\n",
    "pipe_title_length = make_pipeline(\n",
    "    TitleLengthEncoder(taster_name=\"taster_name\", title=\"title\"),\n",
    "    QuantileTransformer(),\n",
    ")\n",
    "pipe_vocab_richness = make_pipeline(\n",
    "    VocabRichnessEncoder(description=\"description\"), QuantileTransformer()\n",
    ")\n",
    "price_bin = make_pipeline(PriceBinEncoder(price=\"price\"), OneHotEncoder())\n",
    "\n",
    "pipe_weather = make_pipeline(\n",
    "            WeatherEncoder('country','year'),\n",
    "            SimpleImputer(strategy = 'median'),\n",
    "            QuantileTransformer()   \n",
    "        )\n",
    "\n",
    "\n",
    "# Define default feature engineering blocs\n",
    "feateng_blocks = [\n",
    "    (\"weather\", pipe_weather, [\"country\",\"year\"]),\n",
    "    (\"year\",YearReturnEnconder(\"year\"),[\"year\"]),\n",
    "    (\"description_sentiment\", pipe_sentiment, [\"description\"]),\n",
    "    (\"title_length\", pipe_title_length, [\"taster_name\",\"title\"]),\n",
    "    (\"vocab_richness\", pipe_vocab_richness, [\"description\"]),\n",
    "    (\"price_bin\", price_bin, [\"price\"]),\n",
    "    (\"categorical\",CreateDummies(),CAT_FEATURES)\n",
    "]"
   ]
  },
  {
   "cell_type": "code",
   "execution_count": 8,
   "metadata": {},
   "outputs": [],
   "source": [
    "\n",
    "feature_year_encoder = ColumnTransformer(\n",
    "            feateng_blocks, n_jobs=None,remainder='drop'\n",
    "        )\n",
    "\n",
    "pipeline = Pipeline(steps=[\n",
    "            ('feature',FeatureSelectionEncoder(threshold=1E-6)),\n",
    "            ('year', YearVintageEncoder(title=\"title\")),\n",
    "            ('price_impute',PriceImputer(price='price')),\n",
    "            ('feat_eng',feature_year_encoder),\n",
    "            ('scaler',QuantileTransformer())\n",
    "])\n",
    "\n",
    "X_new = pipeline.fit_transform(X)"
   ]
  },
  {
   "cell_type": "code",
   "execution_count": 10,
   "metadata": {},
   "outputs": [
    {
     "data": {
      "text/plain": [
       "(10441,)"
      ]
     },
     "execution_count": 10,
     "metadata": {},
     "output_type": "execute_result"
    }
   ],
   "source": [
    "X_new[0].shape"
   ]
  },
  {
   "cell_type": "code",
   "execution_count": 46,
   "metadata": {},
   "outputs": [],
   "source": [
    "fy = YearVintageEncoder(title=\"title\")\n",
    "X_new = fy.fit_transform(df)"
   ]
  },
  {
   "cell_type": "code",
   "execution_count": 47,
   "metadata": {},
   "outputs": [
    {
     "data": {
      "text/plain": [
       "array([1970.,   nan])"
      ]
     },
     "execution_count": 47,
     "metadata": {},
     "output_type": "execute_result"
    }
   ],
   "source": [
    "X_new['year'].unique()"
   ]
  },
  {
   "cell_type": "code",
   "execution_count": 13,
   "metadata": {},
   "outputs": [
    {
     "data": {
      "text/plain": [
       "[0, 1, 2, 3, 4]"
      ]
     },
     "execution_count": 13,
     "metadata": {},
     "output_type": "execute_result"
    }
   ],
   "source": [
    "list(range(5))"
   ]
  },
  {
   "cell_type": "code",
   "execution_count": null,
   "metadata": {},
   "outputs": [],
   "source": []
  }
 ],
 "metadata": {
  "kernelspec": {
   "display_name": "Python 3",
   "language": "python",
   "name": "python3"
  },
  "language_info": {
   "codemirror_mode": {
    "name": "ipython",
    "version": 3
   },
   "file_extension": ".py",
   "mimetype": "text/x-python",
   "name": "python",
   "nbconvert_exporter": "python",
   "pygments_lexer": "ipython3",
   "version": "3.7.7"
  }
 },
 "nbformat": 4,
 "nbformat_minor": 4
}
