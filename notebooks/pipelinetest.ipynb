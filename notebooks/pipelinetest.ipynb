{
 "cells": [
  {
   "cell_type": "code",
   "execution_count": 1,
   "metadata": {},
   "outputs": [
    {
     "name": "stderr",
     "output_type": "stream",
     "text": [
      "[nltk_data] Downloading package stopwords to\n",
      "[nltk_data]     /Users/edwardburroughes/nltk_data...\n",
      "[nltk_data]   Package stopwords is already up-to-date!\n",
      "[nltk_data] Downloading package movie_reviews to\n",
      "[nltk_data]     /Users/edwardburroughes/nltk_data...\n",
      "[nltk_data]   Package movie_reviews is already up-to-date!\n"
     ]
    }
   ],
   "source": [
    "import os \n",
    "import pandas as pd\n",
    "import numpy as np\n",
    "import matplotlib.pyplot as plt\n",
    "import seaborn as sns \n",
    "from sklearn.impute import SimpleImputer\n",
    "from sklearn.ensemble import RandomForestRegressor\n",
    "from sklearn.multiclass import OneVsRestClassifier\n",
    "from sklearn.linear_model import LogisticRegression\n",
    "from sklearn.svm import SVC\n",
    "from sklearn.model_selection import cross_val_score,train_test_split\n",
    "from sklearn.preprocessing import QuantileTransformer  \n",
    "from xgboost import XGBClassifier\n",
    "from sklearn.preprocessing import OneHotEncoder\n",
    "from sklearn.compose import ColumnTransformer\n",
    "from sklearn.pipeline import Pipeline, make_pipeline\n",
    "import sys\n",
    "sys.path.append('..')\n",
    "from WinePredictModel.data import GetData\n",
    "from WinePredictModel.encoder import (\n",
    "    YearVintageEncoder,WeatherEncoder,FeatureSelectionEncoder,PriceImputer,\n",
    "    DescriptionSentimentEncoder,\n",
    "    VocabRichnessEncoder,\n",
    "    TitleLengthEncoder,\n",
    "    PriceBinEncoder,\n",
    "    FeatureSelectionEncoder,\n",
    "    CreateDummies,\n",
    "YearReturnEnconder)\n",
    "%matplotlib inline"
   ]
  },
  {
   "cell_type": "code",
   "execution_count": 3,
   "metadata": {},
   "outputs": [],
   "source": [
    "d = GetData('gcp')"
   ]
  },
  {
   "cell_type": "code",
   "execution_count": 4,
   "metadata": {},
   "outputs": [
    {
     "data": {
      "text/plain": [
       "(75865, 10)"
      ]
     },
     "execution_count": 4,
     "metadata": {},
     "output_type": "execute_result"
    }
   ],
   "source": [
    "df = d.clean_data()\n",
    "df.shape"
   ]
  },
  {
   "cell_type": "code",
   "execution_count": 18,
   "metadata": {},
   "outputs": [
    {
     "data": {
      "text/plain": [
       "27.0"
      ]
     },
     "execution_count": 18,
     "metadata": {},
     "output_type": "execute_result"
    }
   ],
   "source": [
    "df['price'].median()"
   ]
  },
  {
   "cell_type": "code",
   "execution_count": 13,
   "metadata": {},
   "outputs": [
    {
     "name": "stdout",
     "output_type": "stream",
     "text": [
      "province\n",
      "France Other       613\n",
      "Other              506\n",
      "Australia Other    183\n",
      "Italy Other         97\n",
      "Spain Other         58\n",
      "Canada Other         1\n",
      "Name: province, dtype: int64\n",
      "variety\n",
      "Series([], Name: variety, dtype: int64)\n",
      "country\n",
      "Series([], Name: country, dtype: int64)\n",
      "winery\n",
      "Bret Brothers               17\n",
      "Krupp Brothers              17\n",
      "Gordon Brothers             15\n",
      "Frei Brothers               12\n",
      "Brotherhood                 10\n",
      "Three Brothers              10\n",
      "Kay Brothers                10\n",
      "Brengman Brothers            4\n",
      "Pagter Brothers              3\n",
      "Maley Brothers Vineyards     2\n",
      "Agly Brothers                2\n",
      "Two Brothers                 2\n",
      "Name: winery, dtype: int64\n",
      "region_1\n",
      "California Other    5\n",
      "Oregon Other        2\n",
      "Name: region_1, dtype: int64\n"
     ]
    }
   ],
   "source": [
    "CAT_FEATURES = [\"province\", \"variety\", \"country\", \"winery\", \"region_1\"]\n",
    "for col in CAT_FEATURES:\n",
    "    test = df[col].value_counts()\n",
    "    print(col)\n",
    "    print(test[test.index.str.contains(\"Other|other\")])"
   ]
  },
  {
   "cell_type": "code",
   "execution_count": 16,
   "metadata": {},
   "outputs": [
    {
     "data": {
      "text/plain": [
       "Columbia Valley (WA)                         3794\n",
       "Mendoza                                      2150\n",
       "Willamette Valley                            2086\n",
       "Alsace                                       1888\n",
       "Napa Valley                                  1677\n",
       "Russian River Valley                         1486\n",
       "Champagne                                    1449\n",
       "Finger Lakes                                 1384\n",
       "Rioja                                        1332\n",
       "Paso Robles                                  1181\n",
       "California                                   1112\n",
       "Barolo                                       1031\n",
       "Walla Walla Valley (WA)                       996\n",
       "Yakima Valley                                 911\n",
       "Sonoma Coast                                  776\n",
       "Côtes de Provence                             756\n",
       "Brunello di Montalcino                        732\n",
       "Chianti Classico                              715\n",
       "Red Mountain                                  665\n",
       "Ribera del Duero                              665\n",
       "Lodi                                          661\n",
       "Sta. Rita Hills                               577\n",
       "Saint-Émilion                                 533\n",
       "North Fork of Long Island                     525\n",
       "Toscana                                       521\n",
       "Horse Heaven Hills                            514\n",
       "Chablis                                       514\n",
       "Barbaresco                                    513\n",
       "Dundee Hills                                  508\n",
       "Sancerre                                      490\n",
       "                                             ... \n",
       "Criots-Bâtard-Montrachet                        1\n",
       "Colline Teatine                                 1\n",
       "Catalanesca del Monte Somma                     1\n",
       "Currency Creek-McLaren Vale                     1\n",
       "Paestum                                         1\n",
       "Barbera del Monferrato Superiore                1\n",
       "Corton Grèves                                   1\n",
       "Colli Euganei                                   1\n",
       "Lambrusco Salamino di Santa Croce               1\n",
       "Mitterberg                                      1\n",
       "Prosecco di Valdobbiadene                       1\n",
       "Massachusetts                                   1\n",
       "Barossa-Adelaide Hills                          1\n",
       "Rivesaltes Rosé                                 1\n",
       "Côtes du Roussillon Villages Caramany           1\n",
       "Monterey-Santa Barbara-Sonoma                   1\n",
       "Monferrato Bianco                               1\n",
       "Bullas                                          1\n",
       "Monteregio di Massa Marittima                   1\n",
       "Frascati                                        1\n",
       "Ohio                                            1\n",
       "Gippsland                                       1\n",
       "Barbera di Piemonte                             1\n",
       "San Martino della Battaglia                     1\n",
       "Vin de Pays des Coteaux de Bessilles            1\n",
       "Prosecco di Conegliano                          1\n",
       "McLaren Vale-Padthaway                          1\n",
       "Sovana                                          1\n",
       "Valpolicella Ripasso Valpantena Superiore       1\n",
       "Gambellara Classico                             1\n",
       "Name: region_1, Length: 1108, dtype: int64"
      ]
     },
     "execution_count": 16,
     "metadata": {},
     "output_type": "execute_result"
    }
   ],
   "source": [
    "df[\"region_1\"].value_counts()"
   ]
  },
  {
   "cell_type": "code",
   "execution_count": 8,
   "metadata": {},
   "outputs": [
    {
     "data": {
      "text/plain": [
       "France Other       613\n",
       "Other              506\n",
       "Australia Other    183\n",
       "Italy Other         97\n",
       "Spain Other         58\n",
       "Canada Other         1\n",
       "Name: province, dtype: int64"
      ]
     },
     "execution_count": 8,
     "metadata": {},
     "output_type": "execute_result"
    }
   ],
   "source": [
    "test = df[\"province\"].value_counts()\n",
    "test[test.index.str.contains(\"Other|other\")]"
   ]
  },
  {
   "cell_type": "code",
   "execution_count": 5,
   "metadata": {},
   "outputs": [],
   "source": [
    "df.isnull().sum()\n",
    "df.dropna(subset=['taster_name','region_1','taster_name'],inplace=True)"
   ]
  },
  {
   "cell_type": "code",
   "execution_count": 6,
   "metadata": {},
   "outputs": [],
   "source": [
    "X = df.drop(columns='points')\n",
    "y = df['points']\n",
    "X_train,X_test,y_train,y_test = train_test_split(X,y,test_size=0.3,random_state=2)"
   ]
  },
  {
   "cell_type": "code",
   "execution_count": 7,
   "metadata": {},
   "outputs": [],
   "source": [
    "CAT_FEATURES = [\"province\", \"variety\", \"country\", \"winery\", \"region_1\"]\n",
    "pipe_sentiment = make_pipeline(\n",
    "            DescriptionSentimentEncoder(description=\"description\"),\n",
    "            QuantileTransformer(),\n",
    ")\n",
    "pipe_title_length = make_pipeline(\n",
    "    TitleLengthEncoder(taster_name=\"taster_name\", title=\"title\"),\n",
    "    QuantileTransformer(),\n",
    ")\n",
    "pipe_vocab_richness = make_pipeline(\n",
    "    VocabRichnessEncoder(description=\"description\"), QuantileTransformer()\n",
    ")\n",
    "price_bin = make_pipeline(PriceBinEncoder(price=\"price\"), OneHotEncoder(handle_unknown='ignore'))\n",
    "\n",
    "pipe_weather = make_pipeline(\n",
    "            WeatherEncoder('country','year'),\n",
    "            SimpleImputer(strategy = 'median'),\n",
    "            QuantileTransformer()\n",
    "        )\n",
    "# Define default feature engineering blocs\n",
    "feateng_blocks = [\n",
    "    (\"weather\", pipe_weather, [\"country\",\"year\"]),\n",
    "    (\"year\",YearReturnEnconder(\"year\"),[\"year\"]),\n",
    "    (\"price_quan\",QuantileTransformer(),[\"price\"]),\n",
    "    (\"description_sentiment\", pipe_sentiment, [\"description\"]),\n",
    "    (\"title_length\", pipe_title_length, [\"taster_name\",\"title\"]),\n",
    "    (\"vocab_richness\", pipe_vocab_richness, [\"description\"]),\n",
    "    (\"price_bin\", price_bin, [\"price\"]),\n",
    "    (\"categorical\",OneHotEncoder(handle_unknown='ignore'),CAT_FEATURES)]\n",
    "\n",
    "features_encoder = ColumnTransformer(\n",
    "            feateng_blocks, n_jobs=None,\n",
    "            remainder='drop'\n",
    "        )\n",
    "\n",
    "pipeline_feature = Pipeline(\n",
    "            steps=[\n",
    "                ('year', YearVintageEncoder(title=\"title\")),\n",
    "                ('price_impute',PriceImputer(price='price')),\n",
    "                ('feat_eng',features_encoder),\n",
    "            ]\n",
    "        )"
   ]
  },
  {
   "cell_type": "code",
   "execution_count": 8,
   "metadata": {},
   "outputs": [
    {
     "data": {
      "text/html": [
       "<style>div.sk-top-container {color: black;background-color: white;}div.sk-toggleable {background-color: white;}label.sk-toggleable__label {cursor: pointer;display: block;width: 100%;margin-bottom: 0;padding: 0.2em 0.3em;box-sizing: border-box;text-align: center;}div.sk-toggleable__content {max-height: 0;max-width: 0;overflow: hidden;text-align: left;background-color: #f0f8ff;}div.sk-toggleable__content pre {margin: 0.2em;color: black;border-radius: 0.25em;background-color: #f0f8ff;}input.sk-toggleable__control:checked~div.sk-toggleable__content {max-height: 200px;max-width: 100%;overflow: auto;}div.sk-estimator input.sk-toggleable__control:checked~label.sk-toggleable__label {background-color: #d4ebff;}div.sk-label input.sk-toggleable__control:checked~label.sk-toggleable__label {background-color: #d4ebff;}input.sk-hidden--visually {border: 0;clip: rect(1px 1px 1px 1px);clip: rect(1px, 1px, 1px, 1px);height: 1px;margin: -1px;overflow: hidden;padding: 0;position: absolute;width: 1px;}div.sk-estimator {font-family: monospace;background-color: #f0f8ff;margin: 0.25em 0.25em;border: 1px dotted black;border-radius: 0.25em;box-sizing: border-box;}div.sk-estimator:hover {background-color: #d4ebff;}div.sk-parallel-item::after {content: \"\";width: 100%;border-bottom: 1px solid gray;flex-grow: 1;}div.sk-label:hover label.sk-toggleable__label {background-color: #d4ebff;}div.sk-serial::before {content: \"\";position: absolute;border-left: 1px solid gray;box-sizing: border-box;top: 2em;bottom: 0;left: 50%;}div.sk-serial {display: flex;flex-direction: column;align-items: center;background-color: white;}div.sk-item {z-index: 1;}div.sk-parallel {display: flex;align-items: stretch;justify-content: center;background-color: white;}div.sk-parallel-item {display: flex;flex-direction: column;position: relative;background-color: white;}div.sk-parallel-item:first-child::after {align-self: flex-end;width: 50%;}div.sk-parallel-item:last-child::after {align-self: flex-start;width: 50%;}div.sk-parallel-item:only-child::after {width: 0;}div.sk-dashed-wrapped {border: 1px dashed gray;margin: 0.2em;box-sizing: border-box;padding-bottom: 0.1em;background-color: white;position: relative;}div.sk-label label {font-family: monospace;font-weight: bold;background-color: white;display: inline-block;line-height: 1.2em;}div.sk-label-container {position: relative;z-index: 2;text-align: center;}div.sk-container {display: inline-block;position: relative;}</style><div class=\"sk-top-container\"><div class=\"sk-container\"><div class=\"sk-item sk-dashed-wrapped\"><div class=\"sk-label-container\"><div class=\"sk-label sk-toggleable\"><input class=\"sk-toggleable__control sk-hidden--visually\" id=\"a41a9064-9785-4509-ae3d-7b2c8b1078a2\" type=\"checkbox\" ><label class=\"sk-toggleable__label\" for=\"a41a9064-9785-4509-ae3d-7b2c8b1078a2\">Pipeline</label><div class=\"sk-toggleable__content\"><pre>Pipeline(steps=[('year', YearVintageEncoder(title='title')),\n",
       "                ('price_impute', PriceImputer(price='price')),\n",
       "                ('feat_eng',\n",
       "                 ColumnTransformer(transformers=[('weather',\n",
       "                                                  Pipeline(steps=[('weatherencoder',\n",
       "                                                                   WeatherEncoder(country='country',\n",
       "                                                                                  year='year')),\n",
       "                                                                  ('simpleimputer',\n",
       "                                                                   SimpleImputer(strategy='median')),\n",
       "                                                                  ('quantiletransformer',\n",
       "                                                                   QuantileTransformer())]),\n",
       "                                                  ['country',...\n",
       "                                                                   VocabRichnessEncoder(description='description')),\n",
       "                                                                  ('quantiletransformer',\n",
       "                                                                   QuantileTransformer())]),\n",
       "                                                  ['description']),\n",
       "                                                 ('price_bin',\n",
       "                                                  Pipeline(steps=[('pricebinencoder',\n",
       "                                                                   PriceBinEncoder(price='price')),\n",
       "                                                                  ('onehotencoder',\n",
       "                                                                   OneHotEncoder(handle_unknown='ignore'))]),\n",
       "                                                  ['price']),\n",
       "                                                 ('categorical',\n",
       "                                                  OneHotEncoder(handle_unknown='ignore'),\n",
       "                                                  ['province', 'variety',\n",
       "                                                   'country', 'winery',\n",
       "                                                   'region_1'])]))])</pre></div></div></div><div class=\"sk-serial\"><div class=\"sk-item\"><div class=\"sk-estimator sk-toggleable\"><input class=\"sk-toggleable__control sk-hidden--visually\" id=\"645e9d54-bb75-44c6-b6df-1187b8ddbb3b\" type=\"checkbox\" ><label class=\"sk-toggleable__label\" for=\"645e9d54-bb75-44c6-b6df-1187b8ddbb3b\">YearVintageEncoder</label><div class=\"sk-toggleable__content\"><pre>YearVintageEncoder(title='title')</pre></div></div></div><div class=\"sk-item\"><div class=\"sk-estimator sk-toggleable\"><input class=\"sk-toggleable__control sk-hidden--visually\" id=\"cb8b4d5a-8f17-40ce-bcac-4c3773d8f318\" type=\"checkbox\" ><label class=\"sk-toggleable__label\" for=\"cb8b4d5a-8f17-40ce-bcac-4c3773d8f318\">PriceImputer</label><div class=\"sk-toggleable__content\"><pre>PriceImputer(price='price')</pre></div></div></div><div class=\"sk-item sk-dashed-wrapped\"><div class=\"sk-label-container\"><div class=\"sk-label sk-toggleable\"><input class=\"sk-toggleable__control sk-hidden--visually\" id=\"ef2489f1-2074-41d8-87d4-7493e8dbe8a1\" type=\"checkbox\" ><label class=\"sk-toggleable__label\" for=\"ef2489f1-2074-41d8-87d4-7493e8dbe8a1\">feat_eng: ColumnTransformer</label><div class=\"sk-toggleable__content\"><pre>ColumnTransformer(transformers=[('weather',\n",
       "                                 Pipeline(steps=[('weatherencoder',\n",
       "                                                  WeatherEncoder(country='country',\n",
       "                                                                 year='year')),\n",
       "                                                 ('simpleimputer',\n",
       "                                                  SimpleImputer(strategy='median')),\n",
       "                                                 ('quantiletransformer',\n",
       "                                                  QuantileTransformer())]),\n",
       "                                 ['country', 'year']),\n",
       "                                ('year', YearReturnEnconder(year='year'),\n",
       "                                 ['year']),\n",
       "                                ('price_quan', QuantileTransformer(),\n",
       "                                 ['price']),\n",
       "                                ('descript...\n",
       "                                                  VocabRichnessEncoder(description='description')),\n",
       "                                                 ('quantiletransformer',\n",
       "                                                  QuantileTransformer())]),\n",
       "                                 ['description']),\n",
       "                                ('price_bin',\n",
       "                                 Pipeline(steps=[('pricebinencoder',\n",
       "                                                  PriceBinEncoder(price='price')),\n",
       "                                                 ('onehotencoder',\n",
       "                                                  OneHotEncoder(handle_unknown='ignore'))]),\n",
       "                                 ['price']),\n",
       "                                ('categorical',\n",
       "                                 OneHotEncoder(handle_unknown='ignore'),\n",
       "                                 ['province', 'variety', 'country', 'winery',\n",
       "                                  'region_1'])])</pre></div></div></div><div class=\"sk-parallel\"><div class=\"sk-parallel-item\"><div class=\"sk-item\"><div class=\"sk-label-container\"><div class=\"sk-label sk-toggleable\"><input class=\"sk-toggleable__control sk-hidden--visually\" id=\"b501648c-40bc-41c5-98a8-d5747796d110\" type=\"checkbox\" ><label class=\"sk-toggleable__label\" for=\"b501648c-40bc-41c5-98a8-d5747796d110\">weather</label><div class=\"sk-toggleable__content\"><pre>['country', 'year']</pre></div></div></div><div class=\"sk-serial\"><div class=\"sk-item\"><div class=\"sk-serial\"><div class=\"sk-item\"><div class=\"sk-estimator sk-toggleable\"><input class=\"sk-toggleable__control sk-hidden--visually\" id=\"46ca4cd0-260e-4305-a7e8-7613019b0a56\" type=\"checkbox\" ><label class=\"sk-toggleable__label\" for=\"46ca4cd0-260e-4305-a7e8-7613019b0a56\">WeatherEncoder</label><div class=\"sk-toggleable__content\"><pre>WeatherEncoder(country='country', year='year')</pre></div></div></div><div class=\"sk-item\"><div class=\"sk-estimator sk-toggleable\"><input class=\"sk-toggleable__control sk-hidden--visually\" id=\"4e1d1495-0513-4bb6-81ba-f2182d0d305e\" type=\"checkbox\" ><label class=\"sk-toggleable__label\" for=\"4e1d1495-0513-4bb6-81ba-f2182d0d305e\">SimpleImputer</label><div class=\"sk-toggleable__content\"><pre>SimpleImputer(strategy='median')</pre></div></div></div><div class=\"sk-item\"><div class=\"sk-estimator sk-toggleable\"><input class=\"sk-toggleable__control sk-hidden--visually\" id=\"73fa3c41-ea26-4873-b663-575439205c40\" type=\"checkbox\" ><label class=\"sk-toggleable__label\" for=\"73fa3c41-ea26-4873-b663-575439205c40\">QuantileTransformer</label><div class=\"sk-toggleable__content\"><pre>QuantileTransformer()</pre></div></div></div></div></div></div></div></div><div class=\"sk-parallel-item\"><div class=\"sk-item\"><div class=\"sk-label-container\"><div class=\"sk-label sk-toggleable\"><input class=\"sk-toggleable__control sk-hidden--visually\" id=\"f43cf1e6-2c38-4b67-a14d-a42fe275f643\" type=\"checkbox\" ><label class=\"sk-toggleable__label\" for=\"f43cf1e6-2c38-4b67-a14d-a42fe275f643\">year</label><div class=\"sk-toggleable__content\"><pre>['year']</pre></div></div></div><div class=\"sk-serial\"><div class=\"sk-item\"><div class=\"sk-estimator sk-toggleable\"><input class=\"sk-toggleable__control sk-hidden--visually\" id=\"14c02e42-fd11-4671-8234-ee30b1dbcf88\" type=\"checkbox\" ><label class=\"sk-toggleable__label\" for=\"14c02e42-fd11-4671-8234-ee30b1dbcf88\">YearReturnEnconder</label><div class=\"sk-toggleable__content\"><pre>YearReturnEnconder(year='year')</pre></div></div></div></div></div></div><div class=\"sk-parallel-item\"><div class=\"sk-item\"><div class=\"sk-label-container\"><div class=\"sk-label sk-toggleable\"><input class=\"sk-toggleable__control sk-hidden--visually\" id=\"8643952c-622a-4696-8983-93e7bf1964c8\" type=\"checkbox\" ><label class=\"sk-toggleable__label\" for=\"8643952c-622a-4696-8983-93e7bf1964c8\">price_quan</label><div class=\"sk-toggleable__content\"><pre>['price']</pre></div></div></div><div class=\"sk-serial\"><div class=\"sk-item\"><div class=\"sk-estimator sk-toggleable\"><input class=\"sk-toggleable__control sk-hidden--visually\" id=\"3f96d267-15c1-4a9f-82c9-a12e4de17512\" type=\"checkbox\" ><label class=\"sk-toggleable__label\" for=\"3f96d267-15c1-4a9f-82c9-a12e4de17512\">QuantileTransformer</label><div class=\"sk-toggleable__content\"><pre>QuantileTransformer()</pre></div></div></div></div></div></div><div class=\"sk-parallel-item\"><div class=\"sk-item\"><div class=\"sk-label-container\"><div class=\"sk-label sk-toggleable\"><input class=\"sk-toggleable__control sk-hidden--visually\" id=\"245f40d9-ec10-4e0c-be9d-39e649367c8b\" type=\"checkbox\" ><label class=\"sk-toggleable__label\" for=\"245f40d9-ec10-4e0c-be9d-39e649367c8b\">description_sentiment</label><div class=\"sk-toggleable__content\"><pre>['description']</pre></div></div></div><div class=\"sk-serial\"><div class=\"sk-item\"><div class=\"sk-serial\"><div class=\"sk-item\"><div class=\"sk-estimator sk-toggleable\"><input class=\"sk-toggleable__control sk-hidden--visually\" id=\"1ee5776a-04a6-48d2-8e01-64fd9eb26d71\" type=\"checkbox\" ><label class=\"sk-toggleable__label\" for=\"1ee5776a-04a6-48d2-8e01-64fd9eb26d71\">DescriptionSentimentEncoder</label><div class=\"sk-toggleable__content\"><pre>DescriptionSentimentEncoder(description='description')</pre></div></div></div><div class=\"sk-item\"><div class=\"sk-estimator sk-toggleable\"><input class=\"sk-toggleable__control sk-hidden--visually\" id=\"068e2dc2-0d4a-4357-83d1-b7986ec377cf\" type=\"checkbox\" ><label class=\"sk-toggleable__label\" for=\"068e2dc2-0d4a-4357-83d1-b7986ec377cf\">QuantileTransformer</label><div class=\"sk-toggleable__content\"><pre>QuantileTransformer()</pre></div></div></div></div></div></div></div></div><div class=\"sk-parallel-item\"><div class=\"sk-item\"><div class=\"sk-label-container\"><div class=\"sk-label sk-toggleable\"><input class=\"sk-toggleable__control sk-hidden--visually\" id=\"45734187-5019-4b99-a817-f8e3d1ab7c97\" type=\"checkbox\" ><label class=\"sk-toggleable__label\" for=\"45734187-5019-4b99-a817-f8e3d1ab7c97\">title_length</label><div class=\"sk-toggleable__content\"><pre>['taster_name', 'title']</pre></div></div></div><div class=\"sk-serial\"><div class=\"sk-item\"><div class=\"sk-serial\"><div class=\"sk-item\"><div class=\"sk-estimator sk-toggleable\"><input class=\"sk-toggleable__control sk-hidden--visually\" id=\"4c31651c-9f4c-4287-989b-e690bc228c0a\" type=\"checkbox\" ><label class=\"sk-toggleable__label\" for=\"4c31651c-9f4c-4287-989b-e690bc228c0a\">TitleLengthEncoder</label><div class=\"sk-toggleable__content\"><pre>TitleLengthEncoder(taster_name='taster_name', title='title')</pre></div></div></div><div class=\"sk-item\"><div class=\"sk-estimator sk-toggleable\"><input class=\"sk-toggleable__control sk-hidden--visually\" id=\"bbfe692d-4e29-4909-8019-2479410b4636\" type=\"checkbox\" ><label class=\"sk-toggleable__label\" for=\"bbfe692d-4e29-4909-8019-2479410b4636\">QuantileTransformer</label><div class=\"sk-toggleable__content\"><pre>QuantileTransformer()</pre></div></div></div></div></div></div></div></div><div class=\"sk-parallel-item\"><div class=\"sk-item\"><div class=\"sk-label-container\"><div class=\"sk-label sk-toggleable\"><input class=\"sk-toggleable__control sk-hidden--visually\" id=\"3c29c347-032e-4a35-aa4f-d2e64dfe5de1\" type=\"checkbox\" ><label class=\"sk-toggleable__label\" for=\"3c29c347-032e-4a35-aa4f-d2e64dfe5de1\">vocab_richness</label><div class=\"sk-toggleable__content\"><pre>['description']</pre></div></div></div><div class=\"sk-serial\"><div class=\"sk-item\"><div class=\"sk-serial\"><div class=\"sk-item\"><div class=\"sk-estimator sk-toggleable\"><input class=\"sk-toggleable__control sk-hidden--visually\" id=\"edb00112-36d7-403e-9e82-6d1a35344449\" type=\"checkbox\" ><label class=\"sk-toggleable__label\" for=\"edb00112-36d7-403e-9e82-6d1a35344449\">VocabRichnessEncoder</label><div class=\"sk-toggleable__content\"><pre>VocabRichnessEncoder(description='description')</pre></div></div></div><div class=\"sk-item\"><div class=\"sk-estimator sk-toggleable\"><input class=\"sk-toggleable__control sk-hidden--visually\" id=\"c4128319-75ac-45c5-9f00-6b1a87a59887\" type=\"checkbox\" ><label class=\"sk-toggleable__label\" for=\"c4128319-75ac-45c5-9f00-6b1a87a59887\">QuantileTransformer</label><div class=\"sk-toggleable__content\"><pre>QuantileTransformer()</pre></div></div></div></div></div></div></div></div><div class=\"sk-parallel-item\"><div class=\"sk-item\"><div class=\"sk-label-container\"><div class=\"sk-label sk-toggleable\"><input class=\"sk-toggleable__control sk-hidden--visually\" id=\"2b3988a3-b107-46ad-aca6-f595f260d827\" type=\"checkbox\" ><label class=\"sk-toggleable__label\" for=\"2b3988a3-b107-46ad-aca6-f595f260d827\">price_bin</label><div class=\"sk-toggleable__content\"><pre>['price']</pre></div></div></div><div class=\"sk-serial\"><div class=\"sk-item\"><div class=\"sk-serial\"><div class=\"sk-item\"><div class=\"sk-estimator sk-toggleable\"><input class=\"sk-toggleable__control sk-hidden--visually\" id=\"6d4a124a-66e0-47f2-8f0b-924157ef76a9\" type=\"checkbox\" ><label class=\"sk-toggleable__label\" for=\"6d4a124a-66e0-47f2-8f0b-924157ef76a9\">PriceBinEncoder</label><div class=\"sk-toggleable__content\"><pre>PriceBinEncoder(price='price')</pre></div></div></div><div class=\"sk-item\"><div class=\"sk-estimator sk-toggleable\"><input class=\"sk-toggleable__control sk-hidden--visually\" id=\"7328ed85-9f5b-41e8-8cb1-a7d2ab1c88d2\" type=\"checkbox\" ><label class=\"sk-toggleable__label\" for=\"7328ed85-9f5b-41e8-8cb1-a7d2ab1c88d2\">OneHotEncoder</label><div class=\"sk-toggleable__content\"><pre>OneHotEncoder(handle_unknown='ignore')</pre></div></div></div></div></div></div></div></div><div class=\"sk-parallel-item\"><div class=\"sk-item\"><div class=\"sk-label-container\"><div class=\"sk-label sk-toggleable\"><input class=\"sk-toggleable__control sk-hidden--visually\" id=\"1c434fa0-ab17-4155-9f96-9dc0caf066f9\" type=\"checkbox\" ><label class=\"sk-toggleable__label\" for=\"1c434fa0-ab17-4155-9f96-9dc0caf066f9\">categorical</label><div class=\"sk-toggleable__content\"><pre>['province', 'variety', 'country', 'winery', 'region_1']</pre></div></div></div><div class=\"sk-serial\"><div class=\"sk-item\"><div class=\"sk-estimator sk-toggleable\"><input class=\"sk-toggleable__control sk-hidden--visually\" id=\"17ab5313-b963-4105-9174-9115757e550a\" type=\"checkbox\" ><label class=\"sk-toggleable__label\" for=\"17ab5313-b963-4105-9174-9115757e550a\">OneHotEncoder</label><div class=\"sk-toggleable__content\"><pre>OneHotEncoder(handle_unknown='ignore')</pre></div></div></div></div></div></div></div></div></div></div></div></div>"
      ],
      "text/plain": [
       "Pipeline(steps=[('year', YearVintageEncoder(title='title')),\n",
       "                ('price_impute', PriceImputer(price='price')),\n",
       "                ('feat_eng',\n",
       "                 ColumnTransformer(transformers=[('weather',\n",
       "                                                  Pipeline(steps=[('weatherencoder',\n",
       "                                                                   WeatherEncoder(country='country',\n",
       "                                                                                  year='year')),\n",
       "                                                                  ('simpleimputer',\n",
       "                                                                   SimpleImputer(strategy='median')),\n",
       "                                                                  ('quantiletransformer',\n",
       "                                                                   QuantileTransformer())]),\n",
       "                                                  ['country',...\n",
       "                                                                   VocabRichnessEncoder(description='description')),\n",
       "                                                                  ('quantiletransformer',\n",
       "                                                                   QuantileTransformer())]),\n",
       "                                                  ['description']),\n",
       "                                                 ('price_bin',\n",
       "                                                  Pipeline(steps=[('pricebinencoder',\n",
       "                                                                   PriceBinEncoder(price='price')),\n",
       "                                                                  ('onehotencoder',\n",
       "                                                                   OneHotEncoder(handle_unknown='ignore'))]),\n",
       "                                                  ['price']),\n",
       "                                                 ('categorical',\n",
       "                                                  OneHotEncoder(handle_unknown='ignore'),\n",
       "                                                  ['province', 'variety',\n",
       "                                                   'country', 'winery',\n",
       "                                                   'region_1'])]))])"
      ]
     },
     "execution_count": 8,
     "metadata": {},
     "output_type": "execute_result"
    }
   ],
   "source": [
    "from sklearn import set_config; set_config(display='diagram')\n",
    "pipeline_feature"
   ]
  },
  {
   "cell_type": "code",
   "execution_count": 9,
   "metadata": {},
   "outputs": [
    {
     "name": "stderr",
     "output_type": "stream",
     "text": [
      "../WinePredictModel/encoder.py:30: SettingWithCopyWarning: \n",
      "A value is trying to be set on a copy of a slice from a DataFrame.\n",
      "Try using .loc[row_indexer,col_indexer] = value instead\n",
      "\n",
      "See the caveats in the documentation: http://pandas.pydata.org/pandas-docs/stable/indexing.html#indexing-view-versus-copy\n",
      "  X['year'] = X[self.title].str.extract('(\\d+)')\n",
      "../WinePredictModel/encoder.py:31: SettingWithCopyWarning: \n",
      "A value is trying to be set on a copy of a slice from a DataFrame.\n",
      "Try using .loc[row_indexer,col_indexer] = value instead\n",
      "\n",
      "See the caveats in the documentation: http://pandas.pydata.org/pandas-docs/stable/indexing.html#indexing-view-versus-copy\n",
      "  X[\"year\"] = pd.to_numeric(X[\"year\"])\n",
      "../WinePredictModel/encoder.py:33: SettingWithCopyWarning: \n",
      "A value is trying to be set on a copy of a slice from a DataFrame.\n",
      "Try using .loc[row_indexer,col_indexer] = value instead\n",
      "\n",
      "See the caveats in the documentation: http://pandas.pydata.org/pandas-docs/stable/indexing.html#indexing-view-versus-copy\n",
      "  (X[\"year\"] >= 2021) | (X[\"year\"] <= (2021 - 70)), np.nan, X[\"year\"]\n",
      "../WinePredictModel/encoder.py:35: SettingWithCopyWarning: \n",
      "A value is trying to be set on a copy of a slice from a DataFrame.\n",
      "Try using .loc[row_indexer,col_indexer] = value instead\n",
      "\n",
      "See the caveats in the documentation: http://pandas.pydata.org/pandas-docs/stable/indexing.html#indexing-view-versus-copy\n",
      "  X[\"year\"] = pd.to_datetime(X[\"year\"],format='%Y').dt.year\n",
      "../WinePredictModel/encoder.py:37: SettingWithCopyWarning: \n",
      "A value is trying to be set on a copy of a slice from a DataFrame.\n",
      "Try using .loc[row_indexer,col_indexer] = value instead\n",
      "\n",
      "See the caveats in the documentation: http://pandas.pydata.org/pandas-docs/stable/indexing.html#indexing-view-versus-copy\n",
      "  X[['year']] = sc.fit_transform(X[['year']])\n",
      "/Users/edwardburroughes/.pyenv/versions/3.7.7/envs/lewagon/lib/python3.7/site-packages/pandas/core/indexing.py:543: SettingWithCopyWarning: \n",
      "A value is trying to be set on a copy of a slice from a DataFrame.\n",
      "Try using .loc[row_indexer,col_indexer] = value instead\n",
      "\n",
      "See the caveats in the documentation: http://pandas.pydata.org/pandas-docs/stable/indexing.html#indexing-view-versus-copy\n",
      "  self.obj[item] = s\n",
      "../WinePredictModel/encoder.py:162: SettingWithCopyWarning: \n",
      "A value is trying to be set on a copy of a slice from a DataFrame.\n",
      "Try using .loc[row_indexer,col_indexer] = value instead\n",
      "\n",
      "See the caveats in the documentation: http://pandas.pydata.org/pandas-docs/stable/indexing.html#indexing-view-versus-copy\n",
      "  X[[self.price]] = si.fit_transform(X[[self.price]])\n",
      "/Users/edwardburroughes/.pyenv/versions/3.7.7/envs/lewagon/lib/python3.7/site-packages/pandas/core/indexing.py:543: SettingWithCopyWarning: \n",
      "A value is trying to be set on a copy of a slice from a DataFrame.\n",
      "Try using .loc[row_indexer,col_indexer] = value instead\n",
      "\n",
      "See the caveats in the documentation: http://pandas.pydata.org/pandas-docs/stable/indexing.html#indexing-view-versus-copy\n",
      "  self.obj[item] = s\n"
     ]
    }
   ],
   "source": [
    "X_train_preproc = pipeline_feature.fit_transform(X_train)\n",
    "#bm = BorderlineSMOTE(sampling_strategy='minority',k_neighbors=1,m_neighbors=20)"
   ]
  },
  {
   "cell_type": "code",
   "execution_count": 10,
   "metadata": {},
   "outputs": [],
   "source": [
    "from imblearn.over_sampling import BorderlineSMOTE\n",
    "bm = BorderlineSMOTE(sampling_strategy='minority',k_neighbors=1,m_neighbors=20)\n",
    "X_train_smote,y_train_smote = bm.fit_resample(X_train_preproc,y_train)"
   ]
  },
  {
   "cell_type": "code",
   "execution_count": 11,
   "metadata": {},
   "outputs": [
    {
     "data": {
      "text/html": [
       "<style>div.sk-top-container {color: black;background-color: white;}div.sk-toggleable {background-color: white;}label.sk-toggleable__label {cursor: pointer;display: block;width: 100%;margin-bottom: 0;padding: 0.2em 0.3em;box-sizing: border-box;text-align: center;}div.sk-toggleable__content {max-height: 0;max-width: 0;overflow: hidden;text-align: left;background-color: #f0f8ff;}div.sk-toggleable__content pre {margin: 0.2em;color: black;border-radius: 0.25em;background-color: #f0f8ff;}input.sk-toggleable__control:checked~div.sk-toggleable__content {max-height: 200px;max-width: 100%;overflow: auto;}div.sk-estimator input.sk-toggleable__control:checked~label.sk-toggleable__label {background-color: #d4ebff;}div.sk-label input.sk-toggleable__control:checked~label.sk-toggleable__label {background-color: #d4ebff;}input.sk-hidden--visually {border: 0;clip: rect(1px 1px 1px 1px);clip: rect(1px, 1px, 1px, 1px);height: 1px;margin: -1px;overflow: hidden;padding: 0;position: absolute;width: 1px;}div.sk-estimator {font-family: monospace;background-color: #f0f8ff;margin: 0.25em 0.25em;border: 1px dotted black;border-radius: 0.25em;box-sizing: border-box;}div.sk-estimator:hover {background-color: #d4ebff;}div.sk-parallel-item::after {content: \"\";width: 100%;border-bottom: 1px solid gray;flex-grow: 1;}div.sk-label:hover label.sk-toggleable__label {background-color: #d4ebff;}div.sk-serial::before {content: \"\";position: absolute;border-left: 1px solid gray;box-sizing: border-box;top: 2em;bottom: 0;left: 50%;}div.sk-serial {display: flex;flex-direction: column;align-items: center;background-color: white;}div.sk-item {z-index: 1;}div.sk-parallel {display: flex;align-items: stretch;justify-content: center;background-color: white;}div.sk-parallel-item {display: flex;flex-direction: column;position: relative;background-color: white;}div.sk-parallel-item:first-child::after {align-self: flex-end;width: 50%;}div.sk-parallel-item:last-child::after {align-self: flex-start;width: 50%;}div.sk-parallel-item:only-child::after {width: 0;}div.sk-dashed-wrapped {border: 1px dashed gray;margin: 0.2em;box-sizing: border-box;padding-bottom: 0.1em;background-color: white;position: relative;}div.sk-label label {font-family: monospace;font-weight: bold;background-color: white;display: inline-block;line-height: 1.2em;}div.sk-label-container {position: relative;z-index: 2;text-align: center;}div.sk-container {display: inline-block;position: relative;}</style><div class=\"sk-top-container\"><div class=\"sk-container\"><div class=\"sk-item\"><div class=\"sk-estimator sk-toggleable\"><input class=\"sk-toggleable__control sk-hidden--visually\" id=\"652b3190-49aa-4a65-9990-d42bbffdca0d\" type=\"checkbox\" checked><label class=\"sk-toggleable__label\" for=\"652b3190-49aa-4a65-9990-d42bbffdca0d\">RandomForestClassifier</label><div class=\"sk-toggleable__content\"><pre>RandomForestClassifier(n_estimators=500)</pre></div></div></div></div></div>"
      ],
      "text/plain": [
       "RandomForestClassifier(n_estimators=500)"
      ]
     },
     "execution_count": 11,
     "metadata": {},
     "output_type": "execute_result"
    }
   ],
   "source": [
    "from sklearn.ensemble import RandomForestClassifier\n",
    "rf = RandomForestClassifier(n_estimators=500)\n",
    "rf.fit(X_train_smote,y_train_smote)"
   ]
  },
  {
   "cell_type": "code",
   "execution_count": 12,
   "metadata": {},
   "outputs": [
    {
     "name": "stderr",
     "output_type": "stream",
     "text": [
      "../WinePredictModel/encoder.py:30: SettingWithCopyWarning: \n",
      "A value is trying to be set on a copy of a slice from a DataFrame.\n",
      "Try using .loc[row_indexer,col_indexer] = value instead\n",
      "\n",
      "See the caveats in the documentation: http://pandas.pydata.org/pandas-docs/stable/indexing.html#indexing-view-versus-copy\n",
      "  X['year'] = X[self.title].str.extract('(\\d+)')\n",
      "../WinePredictModel/encoder.py:31: SettingWithCopyWarning: \n",
      "A value is trying to be set on a copy of a slice from a DataFrame.\n",
      "Try using .loc[row_indexer,col_indexer] = value instead\n",
      "\n",
      "See the caveats in the documentation: http://pandas.pydata.org/pandas-docs/stable/indexing.html#indexing-view-versus-copy\n",
      "  X[\"year\"] = pd.to_numeric(X[\"year\"])\n",
      "../WinePredictModel/encoder.py:33: SettingWithCopyWarning: \n",
      "A value is trying to be set on a copy of a slice from a DataFrame.\n",
      "Try using .loc[row_indexer,col_indexer] = value instead\n",
      "\n",
      "See the caveats in the documentation: http://pandas.pydata.org/pandas-docs/stable/indexing.html#indexing-view-versus-copy\n",
      "  (X[\"year\"] >= 2021) | (X[\"year\"] <= (2021 - 70)), np.nan, X[\"year\"]\n",
      "../WinePredictModel/encoder.py:35: SettingWithCopyWarning: \n",
      "A value is trying to be set on a copy of a slice from a DataFrame.\n",
      "Try using .loc[row_indexer,col_indexer] = value instead\n",
      "\n",
      "See the caveats in the documentation: http://pandas.pydata.org/pandas-docs/stable/indexing.html#indexing-view-versus-copy\n",
      "  X[\"year\"] = pd.to_datetime(X[\"year\"],format='%Y').dt.year\n",
      "../WinePredictModel/encoder.py:37: SettingWithCopyWarning: \n",
      "A value is trying to be set on a copy of a slice from a DataFrame.\n",
      "Try using .loc[row_indexer,col_indexer] = value instead\n",
      "\n",
      "See the caveats in the documentation: http://pandas.pydata.org/pandas-docs/stable/indexing.html#indexing-view-versus-copy\n",
      "  X[['year']] = sc.fit_transform(X[['year']])\n",
      "/Users/edwardburroughes/.pyenv/versions/3.7.7/envs/lewagon/lib/python3.7/site-packages/pandas/core/indexing.py:543: SettingWithCopyWarning: \n",
      "A value is trying to be set on a copy of a slice from a DataFrame.\n",
      "Try using .loc[row_indexer,col_indexer] = value instead\n",
      "\n",
      "See the caveats in the documentation: http://pandas.pydata.org/pandas-docs/stable/indexing.html#indexing-view-versus-copy\n",
      "  self.obj[item] = s\n",
      "../WinePredictModel/encoder.py:162: SettingWithCopyWarning: \n",
      "A value is trying to be set on a copy of a slice from a DataFrame.\n",
      "Try using .loc[row_indexer,col_indexer] = value instead\n",
      "\n",
      "See the caveats in the documentation: http://pandas.pydata.org/pandas-docs/stable/indexing.html#indexing-view-versus-copy\n",
      "  X[[self.price]] = si.fit_transform(X[[self.price]])\n",
      "/Users/edwardburroughes/.pyenv/versions/3.7.7/envs/lewagon/lib/python3.7/site-packages/pandas/core/indexing.py:543: SettingWithCopyWarning: \n",
      "A value is trying to be set on a copy of a slice from a DataFrame.\n",
      "Try using .loc[row_indexer,col_indexer] = value instead\n",
      "\n",
      "See the caveats in the documentation: http://pandas.pydata.org/pandas-docs/stable/indexing.html#indexing-view-versus-copy\n",
      "  self.obj[item] = s\n"
     ]
    }
   ],
   "source": [
    "X_test_preproc = pipeline_feature.transform(X_test)\n",
    "y_pred = rf.predict(X_test_preproc)"
   ]
  },
  {
   "cell_type": "code",
   "execution_count": 13,
   "metadata": {},
   "outputs": [
    {
     "data": {
      "text/plain": [
       "0.5991834935474535"
      ]
     },
     "execution_count": 13,
     "metadata": {},
     "output_type": "execute_result"
    }
   ],
   "source": [
    "from sklearn.metrics import f1_score\n",
    "f1_score(y_test,y_pred,average='weighted')"
   ]
  },
  {
   "cell_type": "code",
   "execution_count": 14,
   "metadata": {},
   "outputs": [],
   "source": [
    "params ={'bootstrap': [True, False],\n",
    "         'max_depth': [10, 20, 30, 40, 50, 60, 70, 80, 90, 100, None],\n",
    "         'max_features': ['auto', 'sqrt'],\n",
    "         'min_samples_leaf': [1, 2, 4],\n",
    "         'min_samples_split': [2, 5, 10],\n",
    "          'n_estimators': [200, 400, 600, 800, 1000, 1200, 1400, 1600, 1800, 2000]}"
   ]
  },
  {
   "cell_type": "code",
   "execution_count": null,
   "metadata": {},
   "outputs": [
    {
     "name": "stdout",
     "output_type": "stream",
     "text": [
      "Fitting 5 folds for each of 10 candidates, totalling 50 fits\n",
      "[CV 1/5] END bootstrap=True, max_depth=60, max_features=sqrt, min_samples_leaf=4, min_samples_split=5, n_estimators=400; total time=  57.7s\n",
      "[CV 2/5] END bootstrap=True, max_depth=60, max_features=sqrt, min_samples_leaf=4, min_samples_split=5, n_estimators=400; total time=  56.9s\n",
      "[CV 3/5] END bootstrap=True, max_depth=60, max_features=sqrt, min_samples_leaf=4, min_samples_split=5, n_estimators=400; total time=  57.0s\n",
      "[CV 4/5] END bootstrap=True, max_depth=60, max_features=sqrt, min_samples_leaf=4, min_samples_split=5, n_estimators=400; total time=  57.0s\n",
      "[CV 5/5] END bootstrap=True, max_depth=60, max_features=sqrt, min_samples_leaf=4, min_samples_split=5, n_estimators=400; total time=  57.9s\n",
      "[CV 1/5] END bootstrap=True, max_depth=20, max_features=auto, min_samples_leaf=2, min_samples_split=10, n_estimators=1200; total time= 1.6min\n",
      "[CV 2/5] END bootstrap=True, max_depth=20, max_features=auto, min_samples_leaf=2, min_samples_split=10, n_estimators=1200; total time= 1.6min\n",
      "[CV 3/5] END bootstrap=True, max_depth=20, max_features=auto, min_samples_leaf=2, min_samples_split=10, n_estimators=1200; total time= 1.6min\n",
      "[CV 4/5] END bootstrap=True, max_depth=20, max_features=auto, min_samples_leaf=2, min_samples_split=10, n_estimators=1200; total time= 1.6min\n",
      "[CV 5/5] END bootstrap=True, max_depth=20, max_features=auto, min_samples_leaf=2, min_samples_split=10, n_estimators=1200; total time= 1.6min\n",
      "[CV 1/5] END bootstrap=True, max_depth=70, max_features=auto, min_samples_leaf=1, min_samples_split=5, n_estimators=1400; total time=10.2min\n",
      "[CV 2/5] END bootstrap=True, max_depth=70, max_features=auto, min_samples_leaf=1, min_samples_split=5, n_estimators=1400; total time=10.5min\n",
      "[CV 3/5] END bootstrap=True, max_depth=70, max_features=auto, min_samples_leaf=1, min_samples_split=5, n_estimators=1400; total time=10.6min\n",
      "[CV 4/5] END bootstrap=True, max_depth=70, max_features=auto, min_samples_leaf=1, min_samples_split=5, n_estimators=1400; total time=10.6min\n",
      "[CV 5/5] END bootstrap=True, max_depth=70, max_features=auto, min_samples_leaf=1, min_samples_split=5, n_estimators=1400; total time=10.7min\n",
      "[CV 1/5] END bootstrap=False, max_depth=None, max_features=auto, min_samples_leaf=2, min_samples_split=10, n_estimators=2000; total time=11.2min\n",
      "[CV 2/5] END bootstrap=False, max_depth=None, max_features=auto, min_samples_leaf=2, min_samples_split=10, n_estimators=2000; total time=11.3min\n",
      "[CV 3/5] END bootstrap=False, max_depth=None, max_features=auto, min_samples_leaf=2, min_samples_split=10, n_estimators=2000; total time=11.2min\n",
      "[CV 4/5] END bootstrap=False, max_depth=None, max_features=auto, min_samples_leaf=2, min_samples_split=10, n_estimators=2000; total time=13.7min\n",
      "[CV 5/5] END bootstrap=False, max_depth=None, max_features=auto, min_samples_leaf=2, min_samples_split=10, n_estimators=2000; total time=11.2min\n",
      "[CV 1/5] END bootstrap=True, max_depth=60, max_features=auto, min_samples_leaf=1, min_samples_split=2, n_estimators=1200; total time=11.7min\n",
      "[CV 2/5] END bootstrap=True, max_depth=60, max_features=auto, min_samples_leaf=1, min_samples_split=2, n_estimators=1200; total time=12.0min\n",
      "[CV 3/5] END bootstrap=True, max_depth=60, max_features=auto, min_samples_leaf=1, min_samples_split=2, n_estimators=1200; total time=10.6min\n",
      "[CV 4/5] END bootstrap=True, max_depth=60, max_features=auto, min_samples_leaf=1, min_samples_split=2, n_estimators=1200; total time=10.5min\n",
      "[CV 5/5] END bootstrap=True, max_depth=60, max_features=auto, min_samples_leaf=1, min_samples_split=2, n_estimators=1200; total time=10.8min\n",
      "[CV 1/5] END bootstrap=False, max_depth=50, max_features=auto, min_samples_leaf=4, min_samples_split=2, n_estimators=800; total time= 2.9min\n",
      "[CV 2/5] END bootstrap=False, max_depth=50, max_features=auto, min_samples_leaf=4, min_samples_split=2, n_estimators=800; total time= 2.9min\n",
      "[CV 3/5] END bootstrap=False, max_depth=50, max_features=auto, min_samples_leaf=4, min_samples_split=2, n_estimators=800; total time=22.1min\n",
      "[CV 4/5] END bootstrap=False, max_depth=50, max_features=auto, min_samples_leaf=4, min_samples_split=2, n_estimators=800; total time= 2.9min\n",
      "[CV 5/5] END bootstrap=False, max_depth=50, max_features=auto, min_samples_leaf=4, min_samples_split=2, n_estimators=800; total time= 2.9min\n",
      "[CV 1/5] END bootstrap=False, max_depth=100, max_features=sqrt, min_samples_leaf=1, min_samples_split=10, n_estimators=1600; total time=30.3min\n",
      "[CV 2/5] END bootstrap=False, max_depth=100, max_features=sqrt, min_samples_leaf=1, min_samples_split=10, n_estimators=1600; total time=41.6min\n",
      "[CV 3/5] END bootstrap=False, max_depth=100, max_features=sqrt, min_samples_leaf=1, min_samples_split=10, n_estimators=1600; total time=20.6min\n",
      "[CV 4/5] END bootstrap=False, max_depth=100, max_features=sqrt, min_samples_leaf=1, min_samples_split=10, n_estimators=1600; total time=20.2min\n",
      "[CV 5/5] END bootstrap=False, max_depth=100, max_features=sqrt, min_samples_leaf=1, min_samples_split=10, n_estimators=1600; total time=20.7min\n",
      "[CV 1/5] END bootstrap=False, max_depth=60, max_features=auto, min_samples_leaf=1, min_samples_split=5, n_estimators=1200; total time=11.5min\n",
      "[CV 2/5] END bootstrap=False, max_depth=60, max_features=auto, min_samples_leaf=1, min_samples_split=5, n_estimators=1200; total time=11.6min\n",
      "[CV 3/5] END bootstrap=False, max_depth=60, max_features=auto, min_samples_leaf=1, min_samples_split=5, n_estimators=1200; total time=11.6min\n",
      "[CV 4/5] END bootstrap=False, max_depth=60, max_features=auto, min_samples_leaf=1, min_samples_split=5, n_estimators=1200; total time=11.6min\n",
      "[CV 5/5] END bootstrap=False, max_depth=60, max_features=auto, min_samples_leaf=1, min_samples_split=5, n_estimators=1200; total time=11.4min\n",
      "[CV 1/5] END bootstrap=True, max_depth=60, max_features=auto, min_samples_leaf=4, min_samples_split=2, n_estimators=200; total time=  31.8s\n",
      "[CV 2/5] END bootstrap=True, max_depth=60, max_features=auto, min_samples_leaf=4, min_samples_split=2, n_estimators=200; total time=  30.4s\n",
      "[CV 3/5] END bootstrap=True, max_depth=60, max_features=auto, min_samples_leaf=4, min_samples_split=2, n_estimators=200; total time=  29.8s\n",
      "[CV 4/5] END bootstrap=True, max_depth=60, max_features=auto, min_samples_leaf=4, min_samples_split=2, n_estimators=200; total time=  30.3s\n",
      "[CV 5/5] END bootstrap=True, max_depth=60, max_features=auto, min_samples_leaf=4, min_samples_split=2, n_estimators=200; total time=  30.3s\n",
      "[CV 1/5] END bootstrap=True, max_depth=10, max_features=sqrt, min_samples_leaf=2, min_samples_split=10, n_estimators=1000; total time=  43.9s\n",
      "[CV 2/5] END bootstrap=True, max_depth=10, max_features=sqrt, min_samples_leaf=2, min_samples_split=10, n_estimators=1000; total time=  43.6s\n",
      "[CV 3/5] END bootstrap=True, max_depth=10, max_features=sqrt, min_samples_leaf=2, min_samples_split=10, n_estimators=1000; total time=  43.5s\n",
      "[CV 4/5] END bootstrap=True, max_depth=10, max_features=sqrt, min_samples_leaf=2, min_samples_split=10, n_estimators=1000; total time=  44.9s\n",
      "[CV 5/5] END bootstrap=True, max_depth=10, max_features=sqrt, min_samples_leaf=2, min_samples_split=10, n_estimators=1000; total time=  44.7s\n"
     ]
    },
    {
     "data": {
      "text/html": [
       "<style>div.sk-top-container {color: black;background-color: white;}div.sk-toggleable {background-color: white;}label.sk-toggleable__label {cursor: pointer;display: block;width: 100%;margin-bottom: 0;padding: 0.2em 0.3em;box-sizing: border-box;text-align: center;}div.sk-toggleable__content {max-height: 0;max-width: 0;overflow: hidden;text-align: left;background-color: #f0f8ff;}div.sk-toggleable__content pre {margin: 0.2em;color: black;border-radius: 0.25em;background-color: #f0f8ff;}input.sk-toggleable__control:checked~div.sk-toggleable__content {max-height: 200px;max-width: 100%;overflow: auto;}div.sk-estimator input.sk-toggleable__control:checked~label.sk-toggleable__label {background-color: #d4ebff;}div.sk-label input.sk-toggleable__control:checked~label.sk-toggleable__label {background-color: #d4ebff;}input.sk-hidden--visually {border: 0;clip: rect(1px 1px 1px 1px);clip: rect(1px, 1px, 1px, 1px);height: 1px;margin: -1px;overflow: hidden;padding: 0;position: absolute;width: 1px;}div.sk-estimator {font-family: monospace;background-color: #f0f8ff;margin: 0.25em 0.25em;border: 1px dotted black;border-radius: 0.25em;box-sizing: border-box;}div.sk-estimator:hover {background-color: #d4ebff;}div.sk-parallel-item::after {content: \"\";width: 100%;border-bottom: 1px solid gray;flex-grow: 1;}div.sk-label:hover label.sk-toggleable__label {background-color: #d4ebff;}div.sk-serial::before {content: \"\";position: absolute;border-left: 1px solid gray;box-sizing: border-box;top: 2em;bottom: 0;left: 50%;}div.sk-serial {display: flex;flex-direction: column;align-items: center;background-color: white;}div.sk-item {z-index: 1;}div.sk-parallel {display: flex;align-items: stretch;justify-content: center;background-color: white;}div.sk-parallel-item {display: flex;flex-direction: column;position: relative;background-color: white;}div.sk-parallel-item:first-child::after {align-self: flex-end;width: 50%;}div.sk-parallel-item:last-child::after {align-self: flex-start;width: 50%;}div.sk-parallel-item:only-child::after {width: 0;}div.sk-dashed-wrapped {border: 1px dashed gray;margin: 0.2em;box-sizing: border-box;padding-bottom: 0.1em;background-color: white;position: relative;}div.sk-label label {font-family: monospace;font-weight: bold;background-color: white;display: inline-block;line-height: 1.2em;}div.sk-label-container {position: relative;z-index: 2;text-align: center;}div.sk-container {display: inline-block;position: relative;}</style><div class=\"sk-top-container\"><div class=\"sk-container\"><div class=\"sk-item sk-dashed-wrapped\"><div class=\"sk-label-container\"><div class=\"sk-label sk-toggleable\"><input class=\"sk-toggleable__control sk-hidden--visually\" id=\"abdfc2ec-75fa-46e0-8224-f64a8a2a43fb\" type=\"checkbox\" ><label class=\"sk-toggleable__label\" for=\"abdfc2ec-75fa-46e0-8224-f64a8a2a43fb\">RandomizedSearchCV</label><div class=\"sk-toggleable__content\"><pre>RandomizedSearchCV(cv=5, estimator=RandomForestClassifier(n_estimators=500),\n",
       "                   param_distributions={'bootstrap': [True, False],\n",
       "                                        'max_depth': [10, 20, 30, 40, 50, 60,\n",
       "                                                      70, 80, 90, 100, None],\n",
       "                                        'max_features': ['auto', 'sqrt'],\n",
       "                                        'min_samples_leaf': [1, 2, 4],\n",
       "                                        'min_samples_split': [2, 5, 10],\n",
       "                                        'n_estimators': [200, 400, 600, 800,\n",
       "                                                         1000, 1200, 1400, 1600,\n",
       "                                                         1800, 2000]},\n",
       "                   random_state=1, scoring='f1_weighted', verbose=5)</pre></div></div></div><div class=\"sk-parallel\"><div class=\"sk-parallel-item\"><div class=\"sk-item\"><div class=\"sk-serial\"><div class=\"sk-item\"><div class=\"sk-estimator sk-toggleable\"><input class=\"sk-toggleable__control sk-hidden--visually\" id=\"a5b0452b-6f3d-44d2-9349-4c5c23da34ab\" type=\"checkbox\" ><label class=\"sk-toggleable__label\" for=\"a5b0452b-6f3d-44d2-9349-4c5c23da34ab\">RandomForestClassifier</label><div class=\"sk-toggleable__content\"><pre>RandomForestClassifier(n_estimators=500)</pre></div></div></div></div></div></div></div></div></div></div>"
      ],
      "text/plain": [
       "RandomizedSearchCV(cv=5, estimator=RandomForestClassifier(n_estimators=500),\n",
       "                   param_distributions={'bootstrap': [True, False],\n",
       "                                        'max_depth': [10, 20, 30, 40, 50, 60,\n",
       "                                                      70, 80, 90, 100, None],\n",
       "                                        'max_features': ['auto', 'sqrt'],\n",
       "                                        'min_samples_leaf': [1, 2, 4],\n",
       "                                        'min_samples_split': [2, 5, 10],\n",
       "                                        'n_estimators': [200, 400, 600, 800,\n",
       "                                                         1000, 1200, 1400, 1600,\n",
       "                                                         1800, 2000]},\n",
       "                   random_state=1, scoring='f1_weighted', verbose=5)"
      ]
     },
     "execution_count": 15,
     "metadata": {},
     "output_type": "execute_result"
    }
   ],
   "source": [
    "from sklearn.model_selection import RandomizedSearchCV\n",
    "rf_random_search = RandomizedSearchCV(rf,\n",
    "                                       param_distributions=params,\n",
    "                                       cv=5,\n",
    "                                       scoring='f1_weighted',\n",
    "                                       verbose=5,\n",
    "                                       n_iter = 10,\n",
    "                                      random_state=1)\n",
    "rf_random_search.fit(X_train_smote,y_train_smote)"
   ]
  },
  {
   "cell_type": "code",
   "execution_count": 17,
   "metadata": {},
   "outputs": [
    {
     "name": "stdout",
     "output_type": "stream",
     "text": [
      "model best score 0.7063456222873483\n",
      "model best params {'n_estimators': 1600, 'min_samples_split': 10, 'min_samples_leaf': 1, 'max_features': 'sqrt', 'max_depth': 100, 'bootstrap': False}\n"
     ]
    }
   ],
   "source": [
    "print(f\"model best score {rf_random_search.best_score_}\")\n",
    "print(f\"model best params {rf_random_search.best_params_}\")\n",
    "params = rf_random_search.best_params_"
   ]
  },
  {
   "cell_type": "code",
   "execution_count": 25,
   "metadata": {},
   "outputs": [],
   "source": [
    "features = pd.DataFrame(zip(list(X_train.columns),list(rf_random_search.best_estimator_.feature_importances_)))\n",
    "features.columns = ['features','scores']"
   ]
  },
  {
   "cell_type": "code",
   "execution_count": 26,
   "metadata": {},
   "outputs": [],
   "source": [
    "features.to_csv('feature_selection.csv')"
   ]
  },
  {
   "cell_type": "code",
   "execution_count": null,
   "metadata": {},
   "outputs": [],
   "source": []
  }
 ],
 "metadata": {
  "kernelspec": {
   "display_name": "Python 3",
   "language": "python",
   "name": "python3"
  },
  "language_info": {
   "codemirror_mode": {
    "name": "ipython",
    "version": 3
   },
   "file_extension": ".py",
   "mimetype": "text/x-python",
   "name": "python",
   "nbconvert_exporter": "python",
   "pygments_lexer": "ipython3",
   "version": "3.7.7"
  }
 },
 "nbformat": 4,
 "nbformat_minor": 4
}
